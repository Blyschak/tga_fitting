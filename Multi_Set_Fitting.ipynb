{
 "metadata": {
  "name": "",
  "signature": "sha256:fe85b2f0fe4a444bc1200126de433d8f5fdadf02736addf25421eb7f71473397"
 },
 "nbformat": 3,
 "nbformat_minor": 0,
 "worksheets": [
  {
   "cells": [
    {
     "cell_type": "markdown",
     "metadata": {},
     "source": [
      "Kinetics of Thermal Decomposition of Model Systems\n",
      "=="
     ]
    },
    {
     "cell_type": "markdown",
     "metadata": {},
     "source": [
      "1.  Global Package Imports\n",
      "--"
     ]
    },
    {
     "cell_type": "code",
     "collapsed": false,
     "input": [
      "%matplotlib inline\n",
      "%config InlineBackend.figure_format = 'svg'\n",
      "\n",
      "from tga_fitting import *"
     ],
     "language": "python",
     "metadata": {},
     "outputs": [],
     "prompt_number": 6
    },
    {
     "cell_type": "markdown",
     "metadata": {},
     "source": [
      "2.  Difining Miscellaneous Functions\n",
      "--"
     ]
    },
    {
     "cell_type": "code",
     "collapsed": false,
     "input": [
      "def clamp(value, lower, upper):\n",
      "    return np.minimum(np.maximum(value, lower), upper)\n",
      "\n",
      "assert clamp(-1, 0, 1) == 0\n",
      "assert clamp(2, 0, 1) == 1\n",
      "assert clamp(0.5, 0, 1) == 0.5\n",
      "\n",
      "def print_values(pI,ps, pt):\n",
      "    for name, p1,p2,p3 in zip(names, ps, pt, pI):\n",
      "        print name, '=', p3, '||', name, '=', p1,'||', name, '=', p2"
     ],
     "language": "python",
     "metadata": {},
     "outputs": [],
     "prompt_number": 2
    },
    {
     "cell_type": "markdown",
     "metadata": {},
     "source": [
      "3.  Defining Kinetic Model\n",
      "--"
     ]
    },
    {
     "cell_type": "markdown",
     "metadata": {},
     "source": [
      "3.1  Sesstak-Bergren Model"
     ]
    },
    {
     "cell_type": "code",
     "collapsed": false,
     "input": [
      "def SB_Modded(alpha, T, A, E, m, n, p, beta):\n",
      "    R = 8.314\n",
      "    # clamp alpha\n",
      "    epsilon = np.spacing(1)\n",
      "    alpha = clamp(alpha, 0 + epsilon, 1 + epsilon)\n",
      "    dadt = (A/beta)*np.exp(-E/(R*T))*(alpha**m)*((1 - alpha)**n)*((-np.log(1 - alpha))**p)\n",
      "    if np.isreal(dadt) and np.isfinite(dadt):\n",
      "        # no negative derivatives\n",
      "        return np.maximum(dadt, 0)\n",
      "    else:\n",
      "        return 0"
     ],
     "language": "python",
     "metadata": {},
     "outputs": [],
     "prompt_number": 3
    },
    {
     "cell_type": "markdown",
     "metadata": {},
     "source": [
      "4.  Defining Fitting Routines\n",
      "--"
     ]
    },
    {
     "cell_type": "code",
     "collapsed": false,
     "input": [
      "def SB_Integration(T_range, p):\n",
      "    beta_series = [5., 10., 15., 20., 50.]\n",
      "    initialalpha = 1e-9\n",
      "    alpha_pile = np.zeros((len(beta_series),len(T_range)))\n",
      "    alpha = np.zeros(len(T_range))  \n",
      "    for i in range(len(beta_series)):\n",
      "        input_args = np.zeros(6)\n",
      "        alpha = np.zeros(len(T_range))\n",
      "        arg_pass = np.zeros(6)\n",
      "        input_args =  list(p)\n",
      "        input_args.append((beta_series[i-1]))\n",
      "        arg_pass = tuple(np.array(input_args))\n",
      "        alpha = integrate.odeint(SB_Modded, initialalpha, T_range, arg_pass)[:,0]\n",
      "        alpha = clamp(alpha, 0, 1)\n",
      "        alpha_pile[i-1] = array(alpha)\n",
      "    return alpha_pile\n",
      "\n",
      "def Multierror(p):\n",
      "    \n",
      "    Experimental_Alpha = (SB_Integration(T_K, p0))\n",
      "    Model_Alpha = (SB_Integration(T_K, p))\n",
      "    sums = np.zeros((5))\n",
      "    goodindex = np.zeros(len(Experimental_Alpha))\n",
      "    \n",
      "    for i in range(len(Experimental_Alpha)):\n",
      "        subs = np.zeros(len(Model_Alpha[1]))\n",
      "        subs = np.array(Experimental_Alpha[i-1][:]) - np.array(Model_Alpha[i-1][:])\n",
      "        goodindex = (Experimental_Alpha[i-1] > 0.05) & (Experimental_Alpha[i-1] < 0.95)\n",
      "        fit_range = subs[goodindex]\n",
      "        sums[i-1] = np.dot(fit_range,fit_range.T)\n",
      "           \n",
      "    return np.sum(sums)\n",
      "\n",
      "def Multi_Residual(params):\n",
      "    return  Multierror(tuple(params[p].value for p in names))"
     ],
     "language": "python",
     "metadata": {},
     "outputs": [],
     "prompt_number": 4
    },
    {
     "cell_type": "markdown",
     "metadata": {},
     "source": [
      "5.  Multiple Simultaneous Curve Fitting\n",
      "--"
     ]
    },
    {
     "cell_type": "code",
     "collapsed": false,
     "input": [
      "%%time\n",
      "names = ['A', 'E', 'm', 'n', 'p']\n",
      "p0 = (230., 18000., 0.4, 3.0, 0.2)\n",
      "p1 = p0 + 1.5*array(p0*(-0.5 + random.ranf(len(p0))))\n",
      "\n",
      "End_T = 1000\n",
      "Start_T = 25\n",
      "dT = 1\n",
      "\n",
      "Lift_T = 200\n",
      "Lift_Alpha = 0.2\n",
      "\n",
      "Steps = (End_T-Start_T)/dT\n",
      "\n",
      "T_C = np.array(np.linspace(Start_T,End_T,Steps))\n",
      "T_K = T_C + 273.15\n",
      "\n",
      "x = SB_Integration(T_K, p0)\n",
      "y = SB_Integration(T_K, p1)\n",
      "\n",
      "print(Multierror(p1))\n",
      "plt.plot(T_K, x[0], 'b', T_K, x[1], 'b', T_K, x[2], 'b',T_K, x[3], 'b',T_K, x[4], 'b')\n",
      "plt.plot(T_K, y[0], 'g', T_K, y[1], 'g', T_K, y[2], 'g',T_K, y[3], 'g',T_K, y[4], 'g')\n",
      "plt.show()"
     ],
     "language": "python",
     "metadata": {},
     "outputs": [
      {
       "ename": "NameError",
       "evalue": "name 'array' is not defined",
       "output_type": "pyerr",
       "traceback": [
        "\u001b[1;31m---------------------------------------------------------------------------\u001b[0m\n\u001b[1;31mNameError\u001b[0m                                 Traceback (most recent call last)",
        "\u001b[1;32m<ipython-input-5-602ab6e424fd>\u001b[0m in \u001b[0;36m<module>\u001b[1;34m()\u001b[0m\n\u001b[1;32m----> 1\u001b[1;33m \u001b[0mget_ipython\u001b[0m\u001b[1;33m(\u001b[0m\u001b[1;33m)\u001b[0m\u001b[1;33m.\u001b[0m\u001b[0mrun_cell_magic\u001b[0m\u001b[1;33m(\u001b[0m\u001b[1;34mu'time'\u001b[0m\u001b[1;33m,\u001b[0m \u001b[1;34mu''\u001b[0m\u001b[1;33m,\u001b[0m \u001b[1;34mu\"names = ['A', 'E', 'm', 'n', 'p']\\np0 = (230., 18000., 0.4, 3.0, 0.2)\\np1 = p0 + 1.5*array(p0*(-0.5 + random.ranf(len(p0))))\\n\\nEnd_T = 1000\\nStart_T = 25\\ndT = 1\\n\\nLift_T = 200\\nLift_Alpha = 0.2\\n\\nSteps = (End_T-Start_T)/dT\\n\\nT_C = np.array(np.linspace(Start_T,End_T,Steps))\\nT_K = T_C + 273.15\\n\\nx = SB_Integration(T_K, p0)\\ny = SB_Integration(T_K, p1)\\n\\nprint(Multierror(p1))\\nplt.plot(T_K, x[0], 'b', T_K, x[1], 'b', T_K, x[2], 'b',T_K, x[3], 'b',T_K, x[4], 'b')\\nplt.plot(T_K, y[0], 'g', T_K, y[1], 'g', T_K, y[2], 'g',T_K, y[3], 'g',T_K, y[4], 'g')\\nplt.show()\"\u001b[0m\u001b[1;33m)\u001b[0m\u001b[1;33m\u001b[0m\u001b[0m\n\u001b[0m",
        "\u001b[1;32mc:\\Python27\\lib\\site-packages\\IPython\\core\\interactiveshell.pyc\u001b[0m in \u001b[0;36mrun_cell_magic\u001b[1;34m(self, magic_name, line, cell)\u001b[0m\n\u001b[0;32m   2160\u001b[0m             \u001b[0mmagic_arg_s\u001b[0m \u001b[1;33m=\u001b[0m \u001b[0mself\u001b[0m\u001b[1;33m.\u001b[0m\u001b[0mvar_expand\u001b[0m\u001b[1;33m(\u001b[0m\u001b[0mline\u001b[0m\u001b[1;33m,\u001b[0m \u001b[0mstack_depth\u001b[0m\u001b[1;33m)\u001b[0m\u001b[1;33m\u001b[0m\u001b[0m\n\u001b[0;32m   2161\u001b[0m             \u001b[1;32mwith\u001b[0m \u001b[0mself\u001b[0m\u001b[1;33m.\u001b[0m\u001b[0mbuiltin_trap\u001b[0m\u001b[1;33m:\u001b[0m\u001b[1;33m\u001b[0m\u001b[0m\n\u001b[1;32m-> 2162\u001b[1;33m                 \u001b[0mresult\u001b[0m \u001b[1;33m=\u001b[0m \u001b[0mfn\u001b[0m\u001b[1;33m(\u001b[0m\u001b[0mmagic_arg_s\u001b[0m\u001b[1;33m,\u001b[0m \u001b[0mcell\u001b[0m\u001b[1;33m)\u001b[0m\u001b[1;33m\u001b[0m\u001b[0m\n\u001b[0m\u001b[0;32m   2163\u001b[0m             \u001b[1;32mreturn\u001b[0m \u001b[0mresult\u001b[0m\u001b[1;33m\u001b[0m\u001b[0m\n\u001b[0;32m   2164\u001b[0m \u001b[1;33m\u001b[0m\u001b[0m\n",
        "\u001b[1;32mc:\\Python27\\lib\\site-packages\\IPython\\core\\magics\\execution.pyc\u001b[0m in \u001b[0;36mtime\u001b[1;34m(self, line, cell, local_ns)\u001b[0m\n",
        "\u001b[1;32mc:\\Python27\\lib\\site-packages\\IPython\\core\\magic.pyc\u001b[0m in \u001b[0;36m<lambda>\u001b[1;34m(f, *a, **k)\u001b[0m\n\u001b[0;32m    191\u001b[0m     \u001b[1;31m# but it's overkill for just that one bit of state.\u001b[0m\u001b[1;33m\u001b[0m\u001b[1;33m\u001b[0m\u001b[0m\n\u001b[0;32m    192\u001b[0m     \u001b[1;32mdef\u001b[0m \u001b[0mmagic_deco\u001b[0m\u001b[1;33m(\u001b[0m\u001b[0marg\u001b[0m\u001b[1;33m)\u001b[0m\u001b[1;33m:\u001b[0m\u001b[1;33m\u001b[0m\u001b[0m\n\u001b[1;32m--> 193\u001b[1;33m         \u001b[0mcall\u001b[0m \u001b[1;33m=\u001b[0m \u001b[1;32mlambda\u001b[0m \u001b[0mf\u001b[0m\u001b[1;33m,\u001b[0m \u001b[1;33m*\u001b[0m\u001b[0ma\u001b[0m\u001b[1;33m,\u001b[0m \u001b[1;33m**\u001b[0m\u001b[0mk\u001b[0m\u001b[1;33m:\u001b[0m \u001b[0mf\u001b[0m\u001b[1;33m(\u001b[0m\u001b[1;33m*\u001b[0m\u001b[0ma\u001b[0m\u001b[1;33m,\u001b[0m \u001b[1;33m**\u001b[0m\u001b[0mk\u001b[0m\u001b[1;33m)\u001b[0m\u001b[1;33m\u001b[0m\u001b[0m\n\u001b[0m\u001b[0;32m    194\u001b[0m \u001b[1;33m\u001b[0m\u001b[0m\n\u001b[0;32m    195\u001b[0m         \u001b[1;32mif\u001b[0m \u001b[0mcallable\u001b[0m\u001b[1;33m(\u001b[0m\u001b[0marg\u001b[0m\u001b[1;33m)\u001b[0m\u001b[1;33m:\u001b[0m\u001b[1;33m\u001b[0m\u001b[0m\n",
        "\u001b[1;32mc:\\Python27\\lib\\site-packages\\IPython\\core\\magics\\execution.pyc\u001b[0m in \u001b[0;36mtime\u001b[1;34m(self, line, cell, local_ns)\u001b[0m\n\u001b[0;32m   1127\u001b[0m         \u001b[1;32melse\u001b[0m\u001b[1;33m:\u001b[0m\u001b[1;33m\u001b[0m\u001b[0m\n\u001b[0;32m   1128\u001b[0m             \u001b[0mst\u001b[0m \u001b[1;33m=\u001b[0m \u001b[0mclock2\u001b[0m\u001b[1;33m(\u001b[0m\u001b[1;33m)\u001b[0m\u001b[1;33m\u001b[0m\u001b[0m\n\u001b[1;32m-> 1129\u001b[1;33m             \u001b[1;32mexec\u001b[0m\u001b[1;33m(\u001b[0m\u001b[0mcode\u001b[0m\u001b[1;33m,\u001b[0m \u001b[0mglob\u001b[0m\u001b[1;33m,\u001b[0m \u001b[0mlocal_ns\u001b[0m\u001b[1;33m)\u001b[0m\u001b[1;33m\u001b[0m\u001b[0m\n\u001b[0m\u001b[0;32m   1130\u001b[0m             \u001b[0mend\u001b[0m \u001b[1;33m=\u001b[0m \u001b[0mclock2\u001b[0m\u001b[1;33m(\u001b[0m\u001b[1;33m)\u001b[0m\u001b[1;33m\u001b[0m\u001b[0m\n\u001b[0;32m   1131\u001b[0m             \u001b[0mout\u001b[0m \u001b[1;33m=\u001b[0m \u001b[0mNone\u001b[0m\u001b[1;33m\u001b[0m\u001b[0m\n",
        "\u001b[1;32m<timed exec>\u001b[0m in \u001b[0;36m<module>\u001b[1;34m()\u001b[0m\n",
        "\u001b[1;31mNameError\u001b[0m: name 'array' is not defined"
       ]
      }
     ],
     "prompt_number": 5
    },
    {
     "cell_type": "code",
     "collapsed": false,
     "input": [
      "%%time\n",
      "names = ['A', 'E', 'm', 'n', 'p']\n",
      "p0 = (230., 18000., 0.4, 3.0, 0.2)\n",
      "\n",
      "End_T = 1000\n",
      "Start_T = 25\n",
      "dT = 1\n",
      "\n",
      "Steps = (End_T-Start_T)/dT\n",
      "\n",
      "T_C = np.array(np.linspace(1,End_T,Steps))\n",
      "T_K = T_C + 273.15\n",
      "\n",
      "Test_Range = 1\n",
      "\n",
      "fitpars = np.zeros((Test_Range,6))\n",
      "output = {}\n",
      "for i in range(Test_Range):\n",
      "    p1 = p0 + 1.5*np.array((p0*(-0.5 + random.ranf(len(p0)))))\n",
      "\n",
      "    params = Parameters()\n",
      "    params.add('A', value=p1[0], min=0.001, max=2500.,vary=True)\n",
      "    params.add('E', value=p1[1], min=15e0, max=50e6,vary=True)\n",
      "    params.add('m', value=p1[2], min=0, max=10.0,vary=True)\n",
      "    params.add('n', value=p1[3], min=0, max=10.0,vary=True)\n",
      "    params.add('p', value=p1[4], min=0, max=10.0, vary=True)\n",
      "\n",
      "\n",
      "    out = minimize((Multi_Residual), params, method='nelder')\n",
      "    output['Multi_Result'] = (tuple(out.params[n].value for n in names))\n",
      "    fitpars[i-1][0:4] = array(output['Multi_Result'])\n",
      "print(fitpars)"
     ],
     "language": "python",
     "metadata": {},
     "outputs": []
    },
    {
     "cell_type": "code",
     "collapsed": false,
     "input": [
      "x = SB_Integration(T_K, p0)\n",
      "y = SB_Integration(T_K,fitpars['Constrained_Multi'])\n",
      "\n",
      "print(Multierror(p1))\n",
      "plt.plot(T_K, x[0], 'b', T_K, x[1], 'b', T_K, x[2], 'b',T_K, x[3], 'b',T_K, x[4], 'b')\n",
      "plt.plot(T_K, y[0], 'g', T_K, y[1], 'g', T_K, y[2], 'g',T_K, y[3], 'g',T_K, y[4], 'g')\n",
      "plt.show()"
     ],
     "language": "python",
     "metadata": {},
     "outputs": []
    },
    {
     "cell_type": "code",
     "collapsed": false,
     "input": [
      "minimize?"
     ],
     "language": "python",
     "metadata": {},
     "outputs": []
    },
    {
     "cell_type": "code",
     "collapsed": false,
     "input": [],
     "language": "python",
     "metadata": {},
     "outputs": []
    }
   ],
   "metadata": {}
  }
 ]
}