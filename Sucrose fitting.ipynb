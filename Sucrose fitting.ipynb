{
 "metadata": {
  "name": "",
  "signature": "sha256:6252a1096d420114798d58a07d00d4fe684731ff4e566f0f2059515bac25a97a"
 },
 "nbformat": 3,
 "nbformat_minor": 0,
 "worksheets": [
  {
   "cells": [
    {
     "cell_type": "markdown",
     "metadata": {},
     "source": [
      "Kinetics by thermal analysis\n",
      "=="
     ]
    },
    {
     "cell_type": "code",
     "collapsed": false,
     "input": [
      "%matplotlib inline\n",
      "%config InlineBackend.figure_format = 'svg'\n",
      "\n",
      "import numpy"
     ],
     "language": "python",
     "metadata": {},
     "outputs": []
    },
    {
     "cell_type": "markdown",
     "metadata": {},
     "source": [
      "Read data from file\n",
      "--"
     ]
    },
    {
     "cell_type": "code",
     "collapsed": false,
     "input": [
      "import pandas"
     ],
     "language": "python",
     "metadata": {},
     "outputs": [],
     "prompt_number": 5
    },
    {
     "cell_type": "code",
     "collapsed": false,
     "input": [
      "f = pandas.ExcelFile(r'Puts_2014-10-28_Maseko_Sucrose_Fitting_V1.2_(GJP).xlsx')"
     ],
     "language": "python",
     "metadata": {},
     "outputs": [],
     "prompt_number": 6
    },
    {
     "cell_type": "code",
     "collapsed": false,
     "input": [
      "data = f.parse('Alpha Calc', skiprows=1, parse_cols=\"A:E\")"
     ],
     "language": "python",
     "metadata": {},
     "outputs": [],
     "prompt_number": 7
    },
    {
     "cell_type": "code",
     "collapsed": false,
     "input": [
      "data.head()"
     ],
     "language": "python",
     "metadata": {},
     "outputs": [
      {
       "html": [
        "<div style=\"max-height:1000px;max-width:1500px;overflow:auto;\">\n",
        "<table border=\"1\" class=\"dataframe\">\n",
        "  <thead>\n",
        "    <tr style=\"text-align: right;\">\n",
        "      <th></th>\n",
        "      <th>Temperature</th>\n",
        "      <th>Mass Run 1</th>\n",
        "      <th>Mass Run 2</th>\n",
        "      <th>Average Mass</th>\n",
        "      <th>Alpha</th>\n",
        "    </tr>\n",
        "  </thead>\n",
        "  <tbody>\n",
        "    <tr>\n",
        "      <th>0</th>\n",
        "      <td> 30.0</td>\n",
        "      <td> 19.200189</td>\n",
        "      <td> 19.554360</td>\n",
        "      <td> 19.377274</td>\n",
        "      <td> 0.000000</td>\n",
        "    </tr>\n",
        "    <tr>\n",
        "      <th>1</th>\n",
        "      <td> 30.1</td>\n",
        "      <td> 19.201940</td>\n",
        "      <td> 19.560050</td>\n",
        "      <td> 19.380995</td>\n",
        "      <td> 0.000239</td>\n",
        "    </tr>\n",
        "    <tr>\n",
        "      <th>2</th>\n",
        "      <td> 30.2</td>\n",
        "      <td> 19.201721</td>\n",
        "      <td> 19.558518</td>\n",
        "      <td> 19.380119</td>\n",
        "      <td> 0.000183</td>\n",
        "    </tr>\n",
        "    <tr>\n",
        "      <th>3</th>\n",
        "      <td> 30.3</td>\n",
        "      <td> 19.201502</td>\n",
        "      <td> 19.555236</td>\n",
        "      <td> 19.378369</td>\n",
        "      <td> 0.000070</td>\n",
        "    </tr>\n",
        "    <tr>\n",
        "      <th>4</th>\n",
        "      <td> 30.4</td>\n",
        "      <td> 19.201502</td>\n",
        "      <td> 19.555236</td>\n",
        "      <td> 19.378369</td>\n",
        "      <td> 0.000070</td>\n",
        "    </tr>\n",
        "  </tbody>\n",
        "</table>\n",
        "</div>"
       ],
       "metadata": {},
       "output_type": "pyout",
       "prompt_number": 8,
       "text": [
        "   Temperature  Mass Run 1  Mass Run 2  Average Mass     Alpha\n",
        "0         30.0   19.200189   19.554360     19.377274  0.000000\n",
        "1         30.1   19.201940   19.560050     19.380995  0.000239\n",
        "2         30.2   19.201721   19.558518     19.380119  0.000183\n",
        "3         30.3   19.201502   19.555236     19.378369  0.000070\n",
        "4         30.4   19.201502   19.555236     19.378369  0.000070"
       ]
      }
     ],
     "prompt_number": 8
    },
    {
     "cell_type": "markdown",
     "metadata": {},
     "source": [
      "We use the next cell to specify the starting and ending temperatures for the analysis"
     ]
    },
    {
     "cell_type": "code",
     "collapsed": false,
     "input": [
      "plot(data.Temperature, data[['Mass Run 1', 'Mass Run 2']], linewidth=2)\n",
      "# Interpolate to get the corresponding Temperatures\n",
      "TstartC = 320\n",
      "TendC = 700\n",
      "axvspan(TstartC, TendC, color='green', alpha=0.2)\n",
      "xlabel(u'Temperature / \u00b0C')\n",
      "ylabel('Mass / g')"
     ],
     "language": "python",
     "metadata": {},
     "outputs": [
      {
       "metadata": {},
       "output_type": "pyout",
       "prompt_number": 9,
       "text": [
        "<matplotlib.text.Text at 0x10d002f50>"
       ]
      },
      {
       "metadata": {},
       "output_type": "display_data",
       "png": "[encoded data removed]",
       "text": [
        "<matplotlib.figure.Figure at 0x10f248650>"
       ]
      }
     ],
     "prompt_number": 9
    },
    {
     "cell_type": "markdown",
     "metadata": {},
     "source": [
      "Now we extract the data for this range"
     ]
    },
    {
     "cell_type": "code",
     "collapsed": false,
     "input": [
      "GoodData = data[(TstartC < data.Temperature) & (data.Temperature < TendC)]"
     ],
     "language": "python",
     "metadata": {},
     "outputs": [],
     "prompt_number": 10
    },
    {
     "cell_type": "markdown",
     "metadata": {},
     "source": [
      "Calculate alphas"
     ]
    },
    {
     "cell_type": "code",
     "collapsed": false,
     "input": [
      "def calcalpha(mass):\n",
      "    initialmass = mass[0]\n",
      "    finalmass = mass[-1]\n",
      "    return (initialmass - mass)/(initialmass - finalmass)"
     ],
     "language": "python",
     "metadata": {},
     "outputs": [],
     "prompt_number": 11
    },
    {
     "cell_type": "code",
     "collapsed": false,
     "input": [
      "alpha1 = calcalpha(array(GoodData['Mass Run 1']))\n",
      "alpha2 = calcalpha(array(GoodData['Mass Run 2']))\n",
      "alpha = (alpha1 + alpha2)/2\n",
      "\n",
      "initialalpha = 0.05"
     ],
     "language": "python",
     "metadata": {},
     "outputs": [],
     "prompt_number": 12
    },
    {
     "cell_type": "code",
     "collapsed": false,
     "input": [
      "T = array(GoodData.Temperature) + 273\n",
      "dT = diff(T[:2]) # Note we assume fixed temperature step size"
     ],
     "language": "python",
     "metadata": {},
     "outputs": [],
     "prompt_number": 13
    },
    {
     "cell_type": "markdown",
     "metadata": {},
     "source": [
      "Estimate derivative using Savitzky-Golay\n",
      "----------------------------------------\n",
      "\n",
      "This is included in scipy now. Check how it works [here](http://en.wikipedia.org/wiki/Savitzky\u2013Golay_filter). We use a long window with a low-order polynomial because we know the data is actually quite smooth."
     ]
    },
    {
     "cell_type": "code",
     "collapsed": false,
     "input": [
      "import scipy.signal"
     ],
     "language": "python",
     "metadata": {},
     "outputs": [],
     "prompt_number": 14
    },
    {
     "cell_type": "code",
     "collapsed": false,
     "input": [
      "deralpha = scipy.signal.savgol_filter(alpha, window_length=55, polyorder=2, deriv=1, mode='interp')/dT"
     ],
     "language": "python",
     "metadata": {},
     "outputs": [],
     "prompt_number": 15
    },
    {
     "cell_type": "markdown",
     "metadata": {},
     "source": [
      "Let's compare the S-G filtered value with a first-order central difference, supplied by the `gradient` function in SciPy"
     ]
    },
    {
     "cell_type": "code",
     "collapsed": false,
     "input": [
      "subplot(2, 1, 1)\n",
      "plot(T, alpha)\n",
      "ylabel(r'$\\alpha$')\n",
      "subplot(2, 1, 2)\n",
      "plot(T, gradient(alpha, dT), color='green', alpha=0.8)\n",
      "plot(T, deralpha)\n",
      "legend(['Central diff', 'SG'])\n",
      "\n",
      "ylabel(r'd$\\alpha$/d$T$')\n",
      "xlabel('Temperature / K')"
     ],
     "language": "python",
     "metadata": {},
     "outputs": [
      {
       "metadata": {},
       "output_type": "pyout",
       "prompt_number": 16,
       "text": [
        "<matplotlib.text.Text at 0x11343f990>"
       ]
      },
      {
       "metadata": {},
       "output_type": "display_data",
       "png": "[encoded data removed]",
       "text": [
        "<matplotlib.figure.Figure at 0x113557c50>"
       ]
      }
     ],
     "prompt_number": 16
    },
    {
     "cell_type": "markdown",
     "metadata": {},
     "source": [
      "Define model\n",
      "------------"
     ]
    },
    {
     "cell_type": "markdown",
     "metadata": {},
     "source": [
      "See [\"ICTAC Kinetics Committee recommendations for performing kinetic computations on thermal analysis data\"](doi.org/10.1016/j.tca.2011.03.034).\n",
      "\n",
      "This is Sestak-Bergen with an explicit heating rate\n",
      "\n",
      "We basically start with a model of the form \n",
      "\n",
      "$$ \\frac{\\mathrm{d}\\alpha}{\\mathrm{d}t} = k(T) f(\\alpha)$$\n",
      "\n",
      "We use \n",
      "\n",
      "$$ k(T) = A \\exp\\left(\\frac{-E}{RT}\\right)$$ \n",
      "\n",
      "but assume constant heating rate \n",
      "\n",
      "$$ \\frac{\\mathrm{d}T}{\\mathrm{d}t} = \\beta $$\n",
      "\n",
      "Further, we take (this is the actual Sestak-Bergen part)\n",
      "\n",
      "$$ f(\\alpha) = \\alpha^m(1 - \\alpha)^n \\left[ -\\ln(1 - \\alpha)\\right]^p$$\n",
      "\n",
      "Substitution and rearrangement yields the final model:\n",
      "\n",
      "$$ \\frac{\\mathrm{d}\\alpha}{\\mathrm{d}T} = \\frac{A}{\\beta}\\exp\\left(\\frac{-E}{RT}\\right)\\alpha^m(1 - \\alpha)^n \\left[ -\\ln(1 - \\alpha)\\right]^p $$"
     ]
    },
    {
     "cell_type": "code",
     "collapsed": false,
     "input": [
      "R = 8.314"
     ],
     "language": "python",
     "metadata": {},
     "outputs": [],
     "prompt_number": 17
    },
    {
     "cell_type": "markdown",
     "metadata": {},
     "source": [
      "*Note* we set the heating rate here - it should match the heating rate of the data!"
     ]
    },
    {
     "cell_type": "code",
     "collapsed": false,
     "input": [
      "beta = 5  # \u00b0C/min"
     ],
     "language": "python",
     "metadata": {},
     "outputs": [],
     "prompt_number": 18
    },
    {
     "cell_type": "markdown",
     "metadata": {},
     "source": [
      "We force $\\alpha \\in (0, 1)$ (open interval) by claming to $0 + \\epsilon$ and $1 - \\epsilon$. \n",
      "This stops some problematic errors due to raising negative numbers (or zero) to fractional or negative powers. \n",
      "Probably a better way to do this is to enforce bounds on the variables $m$, $n$ and $p$ in the optimisation process."
     ]
    },
    {
     "cell_type": "code",
     "collapsed": false,
     "input": [
      "def dalphadT(alpha, T, A, E, m, n, p):\n",
      "    # clamp alpha\n",
      "    alpha = max(min(alpha, 1 - spacing(1)), spacing(1))\n",
      "    dadt = A/beta*exp(-E/(R*T))*alpha**m*(1 - alpha)**n*(-log(1 - alpha))**p\n",
      "    if isreal(dadt) and isfinite(dadt):\n",
      "        # no negative derivatives\n",
      "        return max(dadt, 0)\n",
      "    else:\n",
      "        return 0"
     ],
     "language": "python",
     "metadata": {},
     "outputs": [],
     "prompt_number": 19
    },
    {
     "cell_type": "markdown",
     "metadata": {},
     "source": [
      "Define initial parameters and names"
     ]
    },
    {
     "cell_type": "code",
     "collapsed": false,
     "input": [
      "names = ['A', 'E', 'm', 'n', 'p']\n",
      "p0 = (250., 18000., 0.74, 6, 0.)"
     ],
     "language": "python",
     "metadata": {},
     "outputs": [],
     "prompt_number": 20
    },
    {
     "cell_type": "markdown",
     "metadata": {},
     "source": [
      "Check that the function works correctly at the initial conditions"
     ]
    },
    {
     "cell_type": "code",
     "collapsed": false,
     "input": [
      "dalphadT(initialalpha, T[0], *p0)"
     ],
     "language": "python",
     "metadata": {},
     "outputs": [
      {
       "metadata": {},
       "output_type": "pyout",
       "prompt_number": 21,
       "text": [
        "0.10398125165350754"
       ]
      }
     ],
     "prompt_number": 21
    },
    {
     "cell_type": "markdown",
     "metadata": {},
     "source": [
      "Utility function to print out the values of the parameters"
     ]
    },
    {
     "cell_type": "code",
     "collapsed": false,
     "input": [
      "def print_values(ps):\n",
      "    for name, p in zip(names, ps):\n",
      "        print name, '=', p"
     ],
     "language": "python",
     "metadata": {},
     "outputs": [],
     "prompt_number": 22
    },
    {
     "cell_type": "code",
     "collapsed": false,
     "input": [
      "print \"Initial values:\"\n",
      "print_values(p0)"
     ],
     "language": "python",
     "metadata": {},
     "outputs": [
      {
       "output_type": "stream",
       "stream": "stdout",
       "text": [
        "Initial values:\n",
        "A = 250.0\n",
        "E = 18000.0\n",
        "m = 0.74\n",
        "n = 6\n",
        "p = 0.0\n"
       ]
      }
     ],
     "prompt_number": 23
    },
    {
     "cell_type": "markdown",
     "metadata": {},
     "source": [
      "Let's try to fit the model by integrating the differential equation numerically"
     ]
    },
    {
     "cell_type": "code",
     "collapsed": false,
     "input": [
      "from scipy import integrate"
     ],
     "language": "python",
     "metadata": {},
     "outputs": [],
     "prompt_number": 24
    },
    {
     "cell_type": "code",
     "collapsed": false,
     "input": [
      "def integrate_pars(p):\n",
      "    return integrate.odeint(dalphadT, initialalpha, T, args=tuple(p))[:,0]"
     ],
     "language": "python",
     "metadata": {},
     "outputs": [],
     "prompt_number": 25
    },
    {
     "cell_type": "code",
     "collapsed": false,
     "input": [
      "%%timeit\n",
      "a = integrate_pars(p0)"
     ],
     "language": "python",
     "metadata": {},
     "outputs": [
      {
       "output_type": "stream",
       "stream": "stdout",
       "text": [
        "100 loops, best of 3: 18.4 ms per loop\n"
       ]
      }
     ],
     "prompt_number": 26
    },
    {
     "cell_type": "code",
     "collapsed": false,
     "input": [
      "def comparefit(p):\n",
      "    model_alpha = integrate_pars(p)\n",
      "    model_dalpha = vectorize(dalphadT)(alpha, T, *p)\n",
      "    \n",
      "    f, ax = subplots(3, sharex=True, sharey=False)\n",
      "    \n",
      "    ax[0].plot(T, alpha, color='green')\n",
      "    ax[0].plot(T, model_alpha)\n",
      "    ax[0].set_ylabel(r'$\\alpha$')\n",
      "    \n",
      "    ax[1].plot(T, model_alpha - alpha)\n",
      "    ax[1].set_ylabel('Model - Data')\n",
      "    ax[1].axhline(0, color='black')\n",
      "    \n",
      "    ax[2].plot(T, deralpha, color='green')\n",
      "    ax[2].plot(T, gradient(model_alpha))\n",
      "    ax[2].set_ylabel(r'd$\\alpha/$d$t$')\n",
      "    ax[2].set_xlabel('Temperature / K')\n",
      "    \n",
      "    ax[2].legend(['Data', 'Model'])\n",
      "    \n",
      "    f.subplots_adjust(hspace=0)"
     ],
     "language": "python",
     "metadata": {},
     "outputs": [],
     "prompt_number": 27
    },
    {
     "cell_type": "code",
     "collapsed": false,
     "input": [
      "comparefit(p0)"
     ],
     "language": "python",
     "metadata": {},
     "outputs": [
      {
       "metadata": {},
       "output_type": "display_data",
       "png": "[encoded data removed]",
       "text": [
        "<matplotlib.figure.Figure at 0x10e7e3c90>"
       ]
      }
     ],
     "prompt_number": 28
    },
    {
     "cell_type": "code",
     "collapsed": false,
     "input": [
      "import scipy.optimize"
     ],
     "language": "python",
     "metadata": {},
     "outputs": [],
     "prompt_number": 29
    },
    {
     "cell_type": "code",
     "collapsed": false,
     "input": [
      "fitpars = {}"
     ],
     "language": "python",
     "metadata": {},
     "outputs": [],
     "prompt_number": 30
    },
    {
     "cell_type": "code",
     "collapsed": false,
     "input": [
      "def errfun(p):\n",
      "    return alpha - integrate_pars(tuple(p))\n",
      "\n",
      "def sumofsquares(p):\n",
      "    return sum(errfun(p)**2)"
     ],
     "language": "python",
     "metadata": {},
     "outputs": [],
     "prompt_number": 31
    },
    {
     "cell_type": "code",
     "collapsed": false,
     "input": [
      "%%time\n",
      "#N = 100\n",
      "#for i in range(N):\n",
      "newstart = array(p0)\n",
      "fitpars['Unconstrained'], cov_p, infodict, mesg, ierr = scipy.optimize.leastsq(errfun, newstart, full_output=True)"
     ],
     "language": "python",
     "metadata": {},
     "outputs": [
      {
       "output_type": "stream",
       "stream": "stdout",
       "text": [
        "Excess work done on this call (perhaps wrong Dfun type).\n",
        "Run with full_output = 1 to get quantitative information.\n",
        "CPU times: user 7.9 s, sys: 31 ms, total: 7.93 s"
       ]
      },
      {
       "output_type": "stream",
       "stream": "stdout",
       "text": [
        "\n",
        "Wall time: 8.03 s\n"
       ]
      }
     ],
     "prompt_number": 32
    },
    {
     "cell_type": "code",
     "collapsed": false,
     "input": [
      "print sumofsquares(fitpars['Unconstrained'])"
     ],
     "language": "python",
     "metadata": {},
     "outputs": [
      {
       "output_type": "stream",
       "stream": "stdout",
       "text": [
        "Excess work done on this call (perhaps wrong Dfun type).\n",
        "Run with full_output = 1 to get quantitative information.\n",
        "0.0917009366112\n"
       ]
      }
     ],
     "prompt_number": 33
    },
    {
     "cell_type": "code",
     "collapsed": false,
     "input": [
      "infodict['nfev']"
     ],
     "language": "python",
     "metadata": {},
     "outputs": [
      {
       "metadata": {},
       "output_type": "pyout",
       "prompt_number": 34,
       "text": [
        "584"
       ]
      }
     ],
     "prompt_number": 34
    },
    {
     "cell_type": "code",
     "collapsed": false,
     "input": [
      "comparefit(fitpars['Unconstrained'])"
     ],
     "language": "python",
     "metadata": {},
     "outputs": [
      {
       "output_type": "stream",
       "stream": "stdout",
       "text": [
        "Excess work done on this call (perhaps wrong Dfun type).\n",
        "Run with full_output = 1 to get quantitative information.\n"
       ]
      },
      {
       "metadata": {},
       "output_type": "display_data",
       "png": "[encoded data removed]",
       "text": [
        "<matplotlib.figure.Figure at 0x113663190>"
       ]
      }
     ],
     "prompt_number": 35
    },
    {
     "cell_type": "code",
     "collapsed": false,
     "input": [
      "print_values(p0)\n",
      "print \"---\"\n",
      "print_values(fitpars['Unconstrained'])"
     ],
     "language": "python",
     "metadata": {},
     "outputs": [
      {
       "output_type": "stream",
       "stream": "stdout",
       "text": [
        "A = 250.0\n",
        "E = 18000.0\n",
        "m = 0.74\n",
        "n = 6\n",
        "p = 0.0\n",
        "---\n",
        "A = 0.0528261514536\n",
        "E = -2338.66244942\n",
        "m = 5.08429672519\n",
        "n = -0.866671337056\n",
        "p = -4.91993522783\n"
       ]
      }
     ],
     "prompt_number": 36
    },
    {
     "cell_type": "markdown",
     "metadata": {},
     "source": [
      "Constrained search\n",
      "==================\n",
      "Using the lmfit library"
     ]
    },
    {
     "cell_type": "code",
     "collapsed": false,
     "input": [
      "from lmfit import minimize, Parameters\n",
      "\n",
      "def residual(params):\n",
      "    return errfun((params[p].value for p in names))\n",
      "\n",
      "params = Parameters()\n",
      "params.add('A', value=250.0, min=15., max=2500.)\n",
      "params.add('E', value=18000., min=15e3, max=50e3)\n",
      "params.add('m', value=0.75, min=0, max=1)\n",
      "params.add('n', value=6.0, min=0, max=1)\n",
      "params.add('p', value=0.0, min=0, max=1, vary=False)"
     ],
     "language": "python",
     "metadata": {},
     "outputs": [],
     "prompt_number": 37
    },
    {
     "cell_type": "code",
     "collapsed": false,
     "input": [
      "%%time\n",
      "out = minimize(residual, params)"
     ],
     "language": "python",
     "metadata": {},
     "outputs": [
      {
       "output_type": "stream",
       "stream": "stdout",
       "text": [
        "CPU times: user 141 ms, sys: 4.96 ms, total: 146 ms\n",
        "Wall time: 142 ms\n"
       ]
      }
     ],
     "prompt_number": 38
    },
    {
     "cell_type": "code",
     "collapsed": true,
     "input": [
      "out.params"
     ],
     "language": "python",
     "metadata": {},
     "outputs": [
      {
       "metadata": {},
       "output_type": "pyout",
       "prompt_number": 39,
       "text": [
        "{'A': <Parameter 'A', value=15.0 +/- 0, bounds=[15.0:2500.0]>,\n",
        " 'E': <Parameter 'E', value=15000.0 +/- 0, bounds=[15000.0:50000.0]>,\n",
        " 'm': <Parameter 'm', value=0.0 +/- 0, bounds=[0:1]>,\n",
        " 'n': <Parameter 'n', value=1.0 +/- 0, bounds=[0:1]>,\n",
        " 'p': <Parameter 'p', value=0.0 (fixed), bounds=[0:1]>}"
       ]
      }
     ],
     "prompt_number": 39
    },
    {
     "cell_type": "code",
     "collapsed": false,
     "input": [
      "fitpars['Constrained'] = tuple(out.params[n].value for n in names)"
     ],
     "language": "python",
     "metadata": {},
     "outputs": [],
     "prompt_number": 40
    },
    {
     "cell_type": "code",
     "collapsed": false,
     "input": [
      "print sumofsquares(fitpars['Constrained'])"
     ],
     "language": "python",
     "metadata": {},
     "outputs": [
      {
       "output_type": "stream",
       "stream": "stdout",
       "text": [
        "335.960819919\n"
       ]
      }
     ],
     "prompt_number": 41
    },
    {
     "cell_type": "code",
     "collapsed": false,
     "input": [
      "comparefit(fitpars['Constrained'])"
     ],
     "language": "python",
     "metadata": {},
     "outputs": [
      {
       "metadata": {},
       "output_type": "display_data",
       "png": "[encoded data removed]",
       "text": [
        "<matplotlib.figure.Figure at 0x113576490>"
       ]
      }
     ],
     "prompt_number": 42
    },
    {
     "cell_type": "markdown",
     "metadata": {},
     "source": [
      "Brute force search\n",
      "=================="
     ]
    },
    {
     "cell_type": "code",
     "collapsed": false,
     "input": [
      "names"
     ],
     "language": "python",
     "metadata": {},
     "outputs": [
      {
       "metadata": {},
       "output_type": "pyout",
       "prompt_number": 43,
       "text": [
        "['A', 'E', 'm', 'n', 'p']"
       ]
      }
     ],
     "prompt_number": 43
    },
    {
     "cell_type": "code",
     "collapsed": false,
     "input": [
      "ranges = ((15., 2500.), # A\n",
      "          (15.0e3, 50.0e3), # E\n",
      "          (0., 0.999), # m\n",
      "          (0., 0.999), # n\n",
      "          (0, 0.999), # p\n",
      "          )"
     ],
     "language": "python",
     "metadata": {},
     "outputs": [],
     "prompt_number": 44
    },
    {
     "cell_type": "code",
     "collapsed": false,
     "input": [
      "%%time\n",
      "fitpars['Brute'], fval, grid_output, Jout = scipy.optimize.brute(sumofsquares, ranges, Ns=5, finish=None, full_output=True)"
     ],
     "language": "python",
     "metadata": {},
     "outputs": [
      {
       "output_type": "stream",
       "stream": "stdout",
       "text": [
        "Excess work done on this call (perhaps wrong Dfun type).\n",
        "Run with full_output = 1 to get quantitative information.\n",
        "Excess work done on this call (perhaps wrong Dfun type)."
       ]
      },
      {
       "output_type": "stream",
       "stream": "stdout",
       "text": [
        "\n",
        "Run with full_output = 1 to get quantitative information.\n",
        "CPU times: user 48.6 s, sys: 118 ms, total: 48.7 s"
       ]
      },
      {
       "output_type": "stream",
       "stream": "stdout",
       "text": [
        "\n",
        "Wall time: 48.7 s\n"
       ]
      }
     ],
     "prompt_number": 45
    },
    {
     "cell_type": "code",
     "collapsed": false,
     "input": [
      "print_values(fitpars['Brute'])"
     ],
     "language": "python",
     "metadata": {},
     "outputs": [
      {
       "output_type": "stream",
       "stream": "stdout",
       "text": [
        "A = 636.25\n",
        "E = 50000.0\n",
        "m = 0.0\n",
        "n = 0.999\n",
        "p = 0.0\n"
       ]
      }
     ],
     "prompt_number": 46
    },
    {
     "cell_type": "code",
     "collapsed": false,
     "input": [
      "comparefit(tuple(fitpars['Brute']))"
     ],
     "language": "python",
     "metadata": {},
     "outputs": [
      {
       "metadata": {},
       "output_type": "display_data",
       "png": "[encoded data removed]",
       "text": [
        "<matplotlib.figure.Figure at 0x1135e9150>"
       ]
      }
     ],
     "prompt_number": 47
    },
    {
     "cell_type": "code",
     "collapsed": false,
     "input": [
      "from IPython.display import HTML"
     ],
     "language": "python",
     "metadata": {},
     "outputs": [],
     "prompt_number": 48
    },
    {
     "cell_type": "code",
     "collapsed": false,
     "input": [
      "fitnames = fitpars.keys()\n",
      "table = \"<table>\"\n",
      "table += \"<tr>\"\n",
      "table += \"<th>Parameter</th>\"\n",
      "for fitname in fitnames:\n",
      "    table += \"<th>{}</th>\".format(fitname)\n",
      "table += \"</tr>\"\n",
      "for i, name in enumerate(names):\n",
      "    table += \"<tr>\"\n",
      "    table += \"<th>{}</th>\".format(name)\n",
      "    for fitname in fitnames:\n",
      "        table += \"<td>{:.2f}</td>\".format(fitpars[fitname][i])\n",
      "    table += \"</tr>\"\n",
      "table += \"<tr><th>Sum of squared errror</th>\"\n",
      "for fitname in fitnames:\n",
      "    table += \"<td>{:.2f}</td>\".format(sumofsquares(tuple(fitpars[fitname])))\n",
      "table += \"</tr>\"\n",
      "HTML(table)"
     ],
     "language": "python",
     "metadata": {},
     "outputs": [
      {
       "output_type": "stream",
       "stream": "stdout",
       "text": [
        "Excess work done on this call (perhaps wrong Dfun type).\n",
        "Run with full_output = 1 to get quantitative information.\n"
       ]
      },
      {
       "html": [
        "<table><tr><th>Parameter</th><th>Unconstrained</th><th>Constrained</th><th>Brute</th></tr><tr><th>A</th><td>0.05</td><td>15.00</td><td>636.25</td></tr><tr><th>E</th><td>-2338.66</td><td>15000.00</td><td>50000.00</td></tr><tr><th>m</th><td>5.08</td><td>0.00</td><td>0.00</td></tr><tr><th>n</th><td>-0.87</td><td>1.00</td><td>1.00</td></tr><tr><th>p</th><td>-4.92</td><td>0.00</td><td>0.00</td></tr><tr><th>Sum of squared errror</th><td>0.09</td><td>335.96</td><td>25.92</td></tr>"
       ],
       "metadata": {},
       "output_type": "pyout",
       "prompt_number": 49,
       "text": [
        "<IPython.core.display.HTML at 0x1135e4a50>"
       ]
      }
     ],
     "prompt_number": 49
    },
    {
     "cell_type": "markdown",
     "metadata": {},
     "source": [
      "Interactive fitting\n",
      "-------------------"
     ]
    },
    {
     "cell_type": "code",
     "collapsed": false,
     "input": [
      "from IPython.html.widgets import interact"
     ],
     "language": "python",
     "metadata": {},
     "outputs": [],
     "prompt_number": 50
    },
    {
     "cell_type": "code",
     "collapsed": false,
     "input": [
      "names"
     ],
     "language": "python",
     "metadata": {},
     "outputs": [
      {
       "metadata": {},
       "output_type": "pyout",
       "prompt_number": 51,
       "text": [
        "['A', 'E', 'm', 'n', 'p']"
       ]
      }
     ],
     "prompt_number": 51
    },
    {
     "cell_type": "code",
     "collapsed": false,
     "input": [
      "def interactive_function(A, E, m, n, p):\n",
      "    comparefit((A, E, m, n, p))\n",
      "    show()"
     ],
     "language": "python",
     "metadata": {},
     "outputs": [],
     "prompt_number": 83
    },
    {
     "cell_type": "code",
     "collapsed": false,
     "input": [
      "rangedict = dict(zip(names, ranges))"
     ],
     "language": "python",
     "metadata": {},
     "outputs": [],
     "prompt_number": 87
    },
    {
     "cell_type": "code",
     "collapsed": false,
     "input": [
      "interact(interactive_function, **rangedict);"
     ],
     "language": "python",
     "metadata": {},
     "outputs": [
      {
       "metadata": {},
       "output_type": "display_data",
       "png": "[encoded data removed]",
       "text": [
        "<matplotlib.figure.Figure at 0x114105310>"
       ]
      }
     ],
     "prompt_number": 88
    },
    {
     "cell_type": "code",
     "collapsed": false,
     "input": [],
     "language": "python",
     "metadata": {},
     "outputs": []
    }
   ],
   "metadata": {}
  }
 ]
}